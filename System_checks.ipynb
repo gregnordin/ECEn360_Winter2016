{
 "metadata": {
  "name": "",
  "signature": "sha256:67a2738ee8f25587f591839dfa28fa08fdd0e8663a8a145431de91fc26205a81"
 },
 "nbformat": 3,
 "nbformat_minor": 0,
 "worksheets": [
  {
   "cells": [
    {
     "cell_type": "heading",
     "level": 1,
     "metadata": {},
     "source": [
      "System Checks"
     ]
    },
    {
     "cell_type": "markdown",
     "metadata": {},
     "source": [
      "G. Nordin  \n",
      "1/9/15"
     ]
    },
    {
     "cell_type": "markdown",
     "metadata": {},
     "source": [
      "Do some quick checks to make sure we are in the right directory and to determine which python & ipython installations are active and their versions."
     ]
    },
    {
     "cell_type": "code",
     "collapsed": false,
     "input": [
      "# Check that we have navigated to the correct directory.\n",
      "# The exact path will be different on your computer.\n",
      "!pwd"
     ],
     "language": "python",
     "metadata": {},
     "outputs": [
      {
       "output_type": "stream",
       "stream": "stdout",
       "text": [
        "/Users/nordin/Documents/BYU/Courses/2015 Winter EE 360/git_stuff/ECEn360_W15\r\n"
       ]
      }
     ],
     "prompt_number": 1
    },
    {
     "cell_type": "code",
     "collapsed": false,
     "input": [
      "# Check which python installation is active\n",
      "!which python"
     ],
     "language": "python",
     "metadata": {},
     "outputs": [
      {
       "output_type": "stream",
       "stream": "stdout",
       "text": [
        "/Users/nordin/anaconda/bin/python\r\n"
       ]
      }
     ],
     "prompt_number": 2
    },
    {
     "cell_type": "code",
     "collapsed": false,
     "input": [
      "# Check the python version\n",
      "!python -V"
     ],
     "language": "python",
     "metadata": {},
     "outputs": [
      {
       "output_type": "stream",
       "stream": "stdout",
       "text": [
        "Python 2.7.9 :: Anaconda 2.1.0 (x86_64)\r\n"
       ]
      }
     ],
     "prompt_number": 3
    },
    {
     "cell_type": "code",
     "collapsed": false,
     "input": [
      "# Check which ipython installation is active\n",
      "!which ipython"
     ],
     "language": "python",
     "metadata": {},
     "outputs": [
      {
       "output_type": "stream",
       "stream": "stdout",
       "text": [
        "/Users/nordin/anaconda/bin/ipython\r\n"
       ]
      }
     ],
     "prompt_number": 4
    },
    {
     "cell_type": "code",
     "collapsed": false,
     "input": [
      "# Check the ipython version\n",
      "!ipython -V"
     ],
     "language": "python",
     "metadata": {},
     "outputs": [
      {
       "output_type": "stream",
       "stream": "stdout",
       "text": [
        "2.3.1\r\n"
       ]
      }
     ],
     "prompt_number": 5
    },
    {
     "cell_type": "code",
     "collapsed": false,
     "input": [
      "!pwd"
     ],
     "language": "python",
     "metadata": {},
     "outputs": [
      {
       "output_type": "stream",
       "stream": "stdout",
       "text": [
        "/Users/nordin/Documents/BYU/Courses/2015 Winter EE 360/git_stuff/ECEn360_W15\r\n"
       ]
      }
     ],
     "prompt_number": 6
    },
    {
     "cell_type": "code",
     "collapsed": false,
     "input": [],
     "language": "python",
     "metadata": {},
     "outputs": []
    }
   ],
   "metadata": {}
  }
 ]
}