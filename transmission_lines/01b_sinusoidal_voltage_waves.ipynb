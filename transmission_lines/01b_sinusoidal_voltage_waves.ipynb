{
 "cells": [
  {
   "cell_type": "markdown",
   "metadata": {},
   "source": [
    "# Forward and Reverse Propagating Sinusoidal Voltages on a Transmission Line\n",
    "\n",
    "This is intended for use with Python 3.5 and Bokeh v0.11. Make sure Bokeh v0.11 is installed according to the instructions in `01a_simple_forward_reverse_pulses.ipynb`.\n",
    "\n",
    "The forward and reverse propagating wave visualization is in the python file, `sinusoidal_wave_animation.py`. To use it, execute the following from the command line (assuming your terminal current working directory is already `ECEn360_W16/transmission_lines`)\n",
    "\n",
    "    bokeh serve --show sinusoidal_wave_animation.py\n",
    "    \n",
    "A new window will open in your browser in which the visualization will be visible. Use the controls to see how the forward, reverse, and total voltage on the transmission line changes with the attenuation constant and reflection coefficient."
   ]
  },
  {
   "cell_type": "code",
   "execution_count": null,
   "metadata": {
    "collapsed": true
   },
   "outputs": [],
   "source": []
  }
 ],
 "metadata": {
  "kernelspec": {
   "display_name": "Python 3",
   "language": "python",
   "name": "python3"
  },
  "language_info": {
   "codemirror_mode": {
    "name": "ipython",
    "version": 3
   },
   "file_extension": ".py",
   "mimetype": "text/x-python",
   "name": "python",
   "nbconvert_exporter": "python",
   "pygments_lexer": "ipython3",
   "version": "3.5.1"
  }
 },
 "nbformat": 4,
 "nbformat_minor": 0
}
