{
 "cells": [
  {
   "cell_type": "markdown",
   "metadata": {},
   "source": [
    "# How to Calculate $V^+_0$ With the Algebraic and Smith Chart Methods"
   ]
  },
  {
   "cell_type": "code",
   "execution_count": 4,
   "metadata": {
    "collapsed": false
   },
   "outputs": [
    {
     "data": {
      "image/png": "[encoded data removed]",
      "text/plain": [
       "<IPython.core.display.Image at 0x104f994d0>"
      ]
     },
     "execution_count": 4,
     "metadata": {},
     "output_type": "execute_result"
    }
   ],
   "source": [
    "from IPython.display import Image\n",
    "Image(filename='01e_transmissionline.png')"
   ]
  },
  {
   "cell_type": "markdown",
   "metadata": {},
   "source": [
    "<dl>\n",
    "  <dt>Given:</dt>\n",
    "  <dd>$f$ = frequency [Hz]</dd>\n",
    "  <dd>$u$ = phase velocity of voltage on transmission line [m/s]</dd>\n",
    "  <dd>$Z_0$ = characteristic impedance of transmission line [$\\Omega$]</dd>\n",
    "  <dd>$Z_L$ = load impedance [$\\Omega$]</dd>\n",
    "  <dd>$l$ = length of transmission line [m]</dd>\n",
    "  <dd>$\\tilde{V_g}$ = generator voltage phasor (in general complex) [V]</dd>\n",
    "  <dd>$Z_g$ = generator impedance [$\\Omega$]</dd>\n",
    "</dl>\n",
    "\n",
    "Step | Algebraic Method | Smith Chart\n",
    ":---: | --- | ---\n",
    "1 | $\\beta = \\frac{2\\pi}{\\lambda}$, $\\lambda = \\frac{u}{f}$ | same \n",
    "2 | $\\Gamma_L = \\frac{Z_L - Z_0}{Z_L + Z_0}$ | calculate $z_L = \\frac{Z_L}{Z_0}$ & plot Smith chart\n",
    "3 | $\\Gamma_{in} = \\Gamma_L e^{-j2\\beta l}$ | rotate cw by an angle of $2 \\beta l$ around a circle of radius $|z_L|$\n",
    "4 | $Z_{in} = Z_0 \\frac{1 + \\Gamma_{in}}{1 - \\Gamma_{in}}$ | read $z_{in}$ from Smith chart and calculate $Z_{in} = z_{in} Z_0$\n",
    "5 | $\\tilde{V_{in}} = \\tilde{V_g} \\frac{Z_{in}}{Z_{in}+Z_g}$ | same\n",
    "6 | $V^+_0 = \\tilde{V_{in}} \\frac{e^{-j\\beta l}}{1 + \\Gamma_{in}} $ | same"
   ]
  },
  {
   "cell_type": "code",
   "execution_count": null,
   "metadata": {
    "collapsed": false
   },
   "outputs": [],
   "source": []
  }
 ],
 "metadata": {
  "kernelspec": {
   "display_name": "Python 2",
   "language": "python",
   "name": "python2"
  },
  "language_info": {
   "codemirror_mode": {
    "name": "ipython",
    "version": 2
   },
   "file_extension": ".py",
   "mimetype": "text/x-python",
   "name": "python",
   "nbconvert_exporter": "python",
   "pygments_lexer": "ipython2",
   "version": "2.7.10"
  }
 },
 "nbformat": 4,
 "nbformat_minor": 0
}
