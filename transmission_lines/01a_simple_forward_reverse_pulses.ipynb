{
 "metadata": {
  "name": "",
  "signature": "sha256:fd273becc3054dac3f43549a1f885b224acd2470dd231b043ba5b9930c6d2c52"
 },
 "nbformat": 3,
 "nbformat_minor": 0,
 "worksheets": [
  {
   "cells": [
    {
     "cell_type": "heading",
     "level": 1,
     "metadata": {},
     "source": [
      "Forward and Backward Propagating Pulses"
     ]
    },
    {
     "cell_type": "markdown",
     "metadata": {},
     "source": [
      "The wave equation for the voltage on a lossless transmission line that we discussed in class is\n",
      "\n",
      "$$\\frac{\\partial^2 v}{\\partial z^2} = \\frac{1}{u^2}\\frac{\\partial^2 v}{\\partial t^2}.$$\n",
      "\n",
      "It has a general solution of the form\n",
      "\n",
      "$$v(z,t) = v^+(z - ut) + v^-(z + ut),$$\n",
      "\n",
      "where $z$ is position along the transmission line, $t$ is time, and $u$ is the phase velocity. $v^+$ and $v^-$ represent forward and reverse propagating waves, respectively (i.e., in the $+z$ and $-z$ directions). We'll use the following code to illustrate this."
     ]
    },
    {
     "cell_type": "code",
     "collapsed": false,
     "input": [
      "# Import needed modules\n",
      "\n",
      "from IPython.html.widgets import interact, fixed\n",
      "import numpy as np\n",
      "from matplotlib import pyplot as plt\n",
      "%matplotlib inline"
     ],
     "language": "python",
     "metadata": {},
     "outputs": [],
     "prompt_number": 1
    },
    {
     "cell_type": "code",
     "collapsed": false,
     "input": [
      "# Define a simple arbitrary pulse function. Let's use 1/2 cycle of a cosine centered at 0,\n",
      "# and zero everywhere else.\n",
      "\n",
      "def pulse(a):\n",
      "    if a < np.pi/2.0 and a > -np.pi/2.0:\n",
      "        return np.cos(a)\n",
      "    else:\n",
      "        return 0.0"
     ],
     "language": "python",
     "metadata": {},
     "outputs": [],
     "prompt_number": 2
    },
    {
     "cell_type": "code",
     "collapsed": false,
     "input": [
      "# Create a function to plot a forward propagating pulse. Use interact() to make it interactive.\n",
      "\n",
      "zmin = -30\n",
      "zmax = 30\n",
      "numpnts = 500\n",
      "def plotpulse(u,t):\n",
      "    x = np.linspace(zmin,zmax,numpnts)\n",
      "    y = np.zeros(numpnts)\n",
      "    for i in range(0,numpnts): \n",
      "        y[i] = pulse(x[i] - u*t)\n",
      "    plt.plot(x,y)\n",
      "    plt.ylim(0,1.2)\n",
      "    plt.xlabel('z')\n",
      "    plt.figtext(0.15,0.82,'t = ' + str(t))\n",
      "interact(plotpulse, u=fixed(1.0), t=(-30,30,0.25));"
     ],
     "language": "python",
     "metadata": {},
     "outputs": [
      {
       "metadata": {},
       "output_type": "display_data",
       "png": "[encoded data removed]",
       "text": [
        "<matplotlib.figure.Figure at 0x10881efd0>"
       ]
      }
     ],
     "prompt_number": 3
    },
    {
     "cell_type": "code",
     "collapsed": false,
     "input": [
      "# Create a function to plot both forward and backward propagating pulses, \n",
      "# arbitrarily starting them at z=0.\n",
      "\n",
      "zmin = -30\n",
      "zmax = 30\n",
      "numpnts = 500\n",
      "def plotpulses(u,t):\n",
      "    x = np.linspace(zmin,zmax,numpnts)\n",
      "    yforward = np.zeros(numpnts)\n",
      "    ybackward = np.zeros(numpnts)\n",
      "    for i in range(0,numpnts): \n",
      "        yforward[i] = pulse(x[i] - u*t)\n",
      "        ybackward[i] = pulse(x[i] + u*t)\n",
      "    plt.plot(x,yforward, 'b')\n",
      "    plt.plot(x,ybackward, 'r')\n",
      "    plt.ylim(0,1.2)\n",
      "    plt.xlabel('z')\n",
      "    plt.figtext(0.15,0.82,'t = ' + str(t))\n",
      "interact(plotpulses, u=fixed(1.0), t=(-30,30,0.25));"
     ],
     "language": "python",
     "metadata": {},
     "outputs": [
      {
       "metadata": {},
       "output_type": "display_data",
       "png": "[encoded data removed]",
       "text": [
        "<matplotlib.figure.Figure at 0x109113090>"
       ]
      }
     ],
     "prompt_number": 4
    },
    {
     "cell_type": "code",
     "collapsed": false,
     "input": [
      "plt.get_backend()"
     ],
     "language": "python",
     "metadata": {},
     "outputs": [
      {
       "metadata": {},
       "output_type": "pyout",
       "prompt_number": 5,
       "text": [
        "'module://IPython.kernel.zmq.pylab.backend_inline'"
       ]
      }
     ],
     "prompt_number": 5
    },
    {
     "cell_type": "code",
     "collapsed": false,
     "input": [],
     "language": "python",
     "metadata": {},
     "outputs": []
    }
   ],
   "metadata": {}
  }
 ]
}