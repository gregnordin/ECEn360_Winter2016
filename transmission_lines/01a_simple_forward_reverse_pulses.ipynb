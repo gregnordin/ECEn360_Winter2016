{
 "cells": [
  {
   "cell_type": "markdown",
   "metadata": {},
   "source": [
    "# Forward and Backward Propagating Pulses"
   ]
  },
  {
   "cell_type": "markdown",
   "metadata": {},
   "source": [
    "The wave equation for the voltage on a lossless transmission line that we discussed in class is\n",
    "\n",
    "$$\\frac{\\partial^2 v}{\\partial z^2} = \\frac{1}{u^2}\\frac{\\partial^2 v}{\\partial t^2}.$$\n",
    "\n",
    "It has a general solution of the form\n",
    "\n",
    "$$v(z,t) = v^+(z - ut) + v^-(z + ut),$$\n",
    "\n",
    "where $z$ is position along the transmission line, $t$ is time, and $u$ is the phase velocity. $v^+$ and $v^-$ represent forward and reverse propagating waves, respectively (i.e., in the $+z$ and $-z$ directions). We'll use the following code to illustrate this."
   ]
  },
  {
   "cell_type": "markdown",
   "metadata": {},
   "source": [
    "## Interactive Forward & Reverse Pulse Animation in Browser\n",
    "\n",
    "Make sure the latest version of bokeh (v0.11) is installed by executing the following from the command line:\n",
    "\n",
    "    conda install bokeh\n",
    "    \n",
    "When you execute\n",
    "\n",
    "    bokeh --version\n",
    "    \n",
    "it should return v0.11.\n",
    "\n",
    "Make sure your terminal present working directory is `ECEN360_Winter2016/transmission_lines`\n",
    "\n",
    "From the command line execute\n",
    "\n",
    "    bokeh serve --show pulse_animation_forward_reverse.py\n",
    "    \n",
    "which will open a new browser window with the pulse animation/visualization. To stop the code, close the browser window and go back to the terminal and type control-C."
   ]
  },
  {
   "cell_type": "markdown",
   "metadata": {},
   "source": [
    "## Or, Interactive Pulse Visualization in Notebook"
   ]
  },
  {
   "cell_type": "code",
   "execution_count": 2,
   "metadata": {
    "collapsed": false
   },
   "outputs": [
    {
     "name": "stderr",
     "output_type": "stream",
     "text": [
      "/Users/nordin/anaconda/envs/py35/lib/python3.5/site-packages/IPython/html.py:14: ShimWarning: The `IPython.html` package has been deprecated. You should import from `notebook` instead. `IPython.html.widgets` has moved to `ipywidgets`.\n",
      "  \"`IPython.html.widgets` has moved to `ipywidgets`.\", ShimWarning)\n"
     ]
    }
   ],
   "source": [
    "# Import needed modules\n",
    "\n",
    "from IPython.html.widgets import interact, fixed\n",
    "import numpy as np\n",
    "from matplotlib import pyplot as plt\n",
    "%matplotlib inline"
   ]
  },
  {
   "cell_type": "code",
   "execution_count": 3,
   "metadata": {
    "collapsed": false
   },
   "outputs": [],
   "source": [
    "# Define a simple arbitrary pulse function. Let's use 1/2 cycle of a cosine centered at 0,\n",
    "# and zero everywhere else.\n",
    "\n",
    "def pulse(a):\n",
    "    if a < np.pi/2.0 and a > -np.pi/2.0:\n",
    "        return np.cos(a)\n",
    "    else:\n",
    "        return 0.0"
   ]
  },
  {
   "cell_type": "code",
   "execution_count": 10,
   "metadata": {
    "collapsed": false
   },
   "outputs": [
    {
     "data": {
      "image/png": "[encoded data removed]",
      "text/plain": [
       "<matplotlib.figure.Figure at 0x10d1ae748>"
      ]
     },
     "metadata": {},
     "output_type": "display_data"
    }
   ],
   "source": [
    "# Create a function to plot a forward propagating pulse. Use interact() to make it interactive.\n",
    "\n",
    "zmin = -30\n",
    "zmax = 30\n",
    "numpnts = 500\n",
    "def plotpulse(u,t=0):\n",
    "    x = np.linspace(zmin,zmax,numpnts)\n",
    "    y = np.zeros(numpnts)\n",
    "    for i in range(0,numpnts): \n",
    "        y[i] = pulse(x[i] - u*t)\n",
    "    plt.plot(x,y)\n",
    "    plt.ylim(0,1.2)\n",
    "    plt.xlabel('z (m)')\n",
    "    plt.figtext(0.15,0.82,'t = ' + str(t))\n",
    "interact(plotpulse, u=fixed(1.0), t=(0,30,0.25));"
   ]
  },
  {
   "cell_type": "code",
   "execution_count": 9,
   "metadata": {
    "collapsed": false
   },
   "outputs": [
    {
     "data": {
      "image/png": "[encoded data removed]",
      "text/plain": [
       "<matplotlib.figure.Figure at 0x10d4ada20>"
      ]
     },
     "metadata": {},
     "output_type": "display_data"
    }
   ],
   "source": [
    "# Create a function to plot both forward and backward propagating pulses, \n",
    "# arbitrarily starting them at z=0.\n",
    "\n",
    "zmin = -30\n",
    "zmax = 30\n",
    "numpnts = 500\n",
    "def plotpulses(u,t=0):\n",
    "    x = np.linspace(zmin,zmax,numpnts)\n",
    "    yforward = np.zeros(numpnts)\n",
    "    ybackward = np.zeros(numpnts)\n",
    "    for i in range(0,numpnts): \n",
    "        yforward[i] = pulse(x[i] - u*t)\n",
    "        ybackward[i] = pulse(x[i] + u*t)\n",
    "    plt.plot(x,yforward, 'b')\n",
    "    plt.plot(x,ybackward, 'r')\n",
    "    plt.ylim(0,1.2)\n",
    "    plt.xlabel('z (m)')\n",
    "    plt.figtext(0.15,0.82,'t = ' + str(t))\n",
    "interact(plotpulses, u=fixed(1.0), t=(0,30,0.25));"
   ]
  },
  {
   "cell_type": "code",
   "execution_count": 5,
   "metadata": {
    "collapsed": false
   },
   "outputs": [
    {
     "data": {
      "text/plain": [
       "'module://IPython.kernel.zmq.pylab.backend_inline'"
      ]
     },
     "execution_count": 5,
     "metadata": {},
     "output_type": "execute_result"
    }
   ],
   "source": [
    "plt.get_backend()"
   ]
  },
  {
   "cell_type": "code",
   "execution_count": null,
   "metadata": {
    "collapsed": false
   },
   "outputs": [],
   "source": []
  }
 ],
 "metadata": {
  "kernelspec": {
   "display_name": "Python 3",
   "language": "python",
   "name": "python3"
  },
  "language_info": {
   "codemirror_mode": {
    "name": "ipython",
    "version": 3
   },
   "file_extension": ".py",
   "mimetype": "text/x-python",
   "name": "python",
   "nbconvert_exporter": "python",
   "pygments_lexer": "ipython3",
   "version": "3.5.1"
  }
 },
 "nbformat": 4,
 "nbformat_minor": 0
}
