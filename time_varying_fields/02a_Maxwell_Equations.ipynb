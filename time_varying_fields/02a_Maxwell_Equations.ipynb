{
 "metadata": {
  "name": "",
  "signature": "sha256:80f7607e34dfe34931c3335a50161cbc65b91b89ad6e31f6ca81c69d8f91aaa6"
 },
 "nbformat": 3,
 "nbformat_minor": 0,
 "worksheets": [
  {
   "cells": [
    {
     "cell_type": "markdown",
     "metadata": {},
     "source": [
      "**Maxwell Equations**\n",
      "$$ \\nabla \\times \\vec{E} = -\\frac{\\partial{\\vec{B}}}{\\partial t} $$\n",
      "$$ \\nabla \\times \\vec{H} = \\vec{J} + \\frac{\\partial{\\vec{D}}}{\\partial t} $$\n",
      "$$ \\nabla \\cdot \\vec{D} = \\rho_c $$ Gauss's Law\n",
      "$$ \\nabla \\cdot \\vec{B} = 0 $$\n",
      "\n",
      "**Consituitive Relations**\n",
      "$$ \\vec{D} = \\epsilon \\vec{E} $$\n",
      "$$ \\vec{B} = \\mu \\vec{H} $$\n",
      "$$ \\vec{J} = \\sigma \\vec{E} $$\n"
     ]
    },
    {
     "cell_type": "code",
     "collapsed": false,
     "input": [],
     "language": "python",
     "metadata": {},
     "outputs": []
    }
   ],
   "metadata": {}
  }
 ]
}