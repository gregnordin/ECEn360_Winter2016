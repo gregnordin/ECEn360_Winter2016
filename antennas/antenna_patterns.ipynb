{
 "cells": [
  {
   "cell_type": "code",
   "execution_count": 1,
   "metadata": {
    "collapsed": false
   },
   "outputs": [
    {
     "name": "stderr",
     "output_type": "stream",
     "text": [
      "WARNING:traits.has_traits:DEPRECATED: traits.has_traits.wrapped_class, 'the 'implements' class advisor has been deprecated. Use the 'provides' class decorator.\n"
     ]
    }
   ],
   "source": [
    "from mayavi import mlab\n",
    "import numpy as np"
   ]
  },
  {
   "cell_type": "markdown",
   "metadata": {},
   "source": [
    "# Hertzian Dipole"
   ]
  },
  {
   "cell_type": "code",
   "execution_count": 2,
   "metadata": {
    "collapsed": true
   },
   "outputs": [],
   "source": [
    "# Make xyz axes\n",
    "axes_len_min, axes_len_max = -1.2,1.2\n",
    "xx,xy,xz = np.array([axes_len_min, axes_len_max]),np.array([0.0,0.0]),np.array([0.0,0.0])\n",
    "yx,yy,yz = np.array([0.0,0.0]),np.array([axes_len_min, axes_len_max]),np.array([0.0,0.0])\n",
    "zx,zy,zz = np.array([0.0,0.0]),np.array([0.0,0.0]),np.array([axes_len_min, axes_len_max])\n",
    "axis_x = mlab.plot3d(xx,xy,xz)\n",
    "axis_y = mlab.plot3d(yx,yy,yz)\n",
    "axis_z = mlab.plot3d(zx,zy,zz)\n",
    "mlab.text3d(axes_len_max+0.2, -0.05, -0.05, 'x', scale=0.25)\n",
    "mlab.text3d(0.0, axes_len_max+0.2, 0.0, 'y', scale=0.25)\n",
    "mlab.text3d(0.0, 0.0, axes_len_max+0.2, 'z', scale=0.25)\n",
    "\n",
    "# Make Hertzian dipole radiation pattern mesh & display\n",
    "# from http://stackoverflow.com/questions/20668818/python-3d-plotting-of-measurement-data\n",
    "def r(phi,theta):\n",
    "    r = np.sin(phi)**2\n",
    "    return r\n",
    "\n",
    "phi, theta = np.mgrid[1e-2:2*np.pi-1e-2:201j, 1e-4:np.pi:101j]\n",
    "\n",
    "x = r(phi,theta)*np.sin(phi)*np.cos(theta)\n",
    "y = r(phi,theta)*np.sin(phi)*np.sin(theta)\n",
    "z = r(phi,theta)*np.cos(phi)\n",
    "\n",
    "intensity0 = r(phi,theta) #colorize surface to show radiation pattern amplitude\n",
    "\n",
    "obj = mlab.mesh(x, y, z, scalars=intensity0, representation='surface', opacity=1.0)\n",
    "mlab.show()"
   ]
  },
  {
   "cell_type": "markdown",
   "metadata": {},
   "source": [
    "# More directional antenna pattern with sidelobes"
   ]
  },
  {
   "cell_type": "code",
   "execution_count": 4,
   "metadata": {
    "collapsed": true
   },
   "outputs": [],
   "source": [
    "# Make xyz axes\n",
    "axes_len_min, axes_len_max = -1.2,1.2\n",
    "xx,xy,xz = np.array([axes_len_min, axes_len_max]),np.array([0.0,0.0]),np.array([0.0,0.0])\n",
    "yx,yy,yz = np.array([0.0,0.0]),np.array([axes_len_min, axes_len_max]),np.array([0.0,0.0])\n",
    "zx,zy,zz = np.array([0.0,0.0]),np.array([0.0,0.0]),np.array([axes_len_min, axes_len_max])\n",
    "axis_x = mlab.plot3d(xx,xy,xz)\n",
    "axis_y = mlab.plot3d(yx,yy,yz)\n",
    "axis_z = mlab.plot3d(zx,zy,zz)\n",
    "mlab.text3d(axes_len_max+0.2, -0.05, -0.05, 'x', scale=0.25)\n",
    "mlab.text3d(0.0, axes_len_max+0.2, 0.0, 'y', scale=0.25)\n",
    "mlab.text3d(0.0, 0.0, axes_len_max+0.2, 'z', scale=0.25)\n",
    "\n",
    "def r(phi,theta):\n",
    "    r = np.sin(phi)**4 * np.cos(2*theta)**2 * np.abs(np.cos(3*theta))\n",
    "    return r\n",
    "\n",
    "phi, theta = np.mgrid[1e-2:2*np.pi-1e-2:201j, 1e-4:np.pi:101j]\n",
    "\n",
    "x = r(phi,theta)*np.sin(phi)*np.cos(theta)\n",
    "y = r(phi,theta)*np.sin(phi)*np.sin(theta)\n",
    "z = r(phi,theta)*np.cos(phi)\n",
    "\n",
    "intensity0 = r(phi,theta)\n",
    "\n",
    "obj = mlab.mesh(x, y, z, scalars=intensity0, representation='surface', opacity=1.0)#, colormap='jet')\n",
    "mlab.show()"
   ]
  },
  {
   "cell_type": "code",
   "execution_count": null,
   "metadata": {
    "collapsed": true
   },
   "outputs": [],
   "source": []
  }
 ],
 "metadata": {
  "kernelspec": {
   "display_name": "Python 2",
   "language": "python",
   "name": "python2"
  },
  "language_info": {
   "codemirror_mode": {
    "name": "ipython",
    "version": 2
   },
   "file_extension": ".py",
   "mimetype": "text/x-python",
   "name": "python",
   "nbconvert_exporter": "python",
   "pygments_lexer": "ipython2",
   "version": "2.7.9"
  }
 },
 "nbformat": 4,
 "nbformat_minor": 0
}
